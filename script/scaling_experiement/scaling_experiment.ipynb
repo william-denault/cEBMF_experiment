{
 "cells": [
  {
   "cell_type": "code",
   "execution_count": 2,
   "metadata": {},
   "outputs": [],
   "source": [
    "import numpy as np\n",
    "import time\n",
    "import pickle\n",
    "import matplotlib.pyplot as plt\n",
    "\n",
    "import os\n",
    "import sys\n",
    "import numpy as np\n",
    "import matplotlib.pyplot as plt\n",
    "sys.path.append(r\"C:\\Document\\Serieux\\Travail\\python_work\\cEBNM_torch\\py\")\n",
    "sys.path.append(r\"C:\\Document\\Serieux\\Travail\\python_work\\cEBNM_torch\\py\\ebnm_solver\")\n",
    "sys.path.append(r\"C:\\Document\\Serieux\\Travail\\python_work\\cEBNM_torch\\py\\numerical_routine\")\n",
    "\n",
    "from empirical_mdn import * \n",
    "\n",
    "# Add the path to utils.py\n",
    "sys.path.append(r\"c:\\Document\\Serieux\\Travail\\python_work\\cEBNM_torch\\py\")\n",
    "from cEBMF import *\n",
    "def scaling_exp(noise_level=1, seed=1, nrow=1000):\n",
    "    np.random.seed(seed)\n",
    "\n",
    "    # Generate random coordinates\n",
    "    x = np.random.rand(nrow)\n",
    "    y = np.random.rand(nrow)\n",
    "    X = np.column_stack((x, y))  # This will be your 'df'\n",
    "\n",
    "    # Generate f matrix (3 x 200)\n",
    "    f = np.empty((3, 200))\n",
    "    for i in range(200):\n",
    "        t1 = np.random.choice([0, 1])\n",
    "        t2 = np.random.choice([0, 1])\n",
    "        f[0, i] = t1 * np.random.randn()\n",
    "        f[1, i] = t2 * np.random.randn()\n",
    "        f[2, i] = t2 * np.random.randn()\n",
    "\n",
    "    # Initialize L matrix\n",
    "    L = np.empty((nrow, 3))\n",
    "\n",
    "    for i in range(nrow):\n",
    "        if (x[i] < 0.33 and y[i] < 0.33) or \\\n",
    "           (0.33 < x[i] < 0.66 and 0.33 < y[i] < 0.66) or \\\n",
    "           (x[i] > 0.66 and y[i] > 0.66):\n",
    "            L[i, :] = [1, 0, 0]\n",
    "        elif (x[i] < 0.33 and y[i] > 0.66) or \\\n",
    "             (0.33 < x[i] < 0.66 and y[i] < 0.33) or \\\n",
    "             (x[i] > 0.66 and 0.33 < y[i] < 0.66):\n",
    "            L[i, :] = [0, 1, 0]\n",
    "        else:\n",
    "            L[i, :] = [0, 0, 1]\n",
    "\n",
    "    # Generate noisy observations\n",
    "    Z = L @ f + np.random.normal(scale=noise_level, size=(nrow, f.shape[1]))\n",
    "\n",
    "    return Z, X  # X is a (nrow x 2) NumPy array with x and y\n"
   ]
  },
  {
   "cell_type": "code",
   "execution_count": 3,
   "metadata": {},
   "outputs": [],
   "source": [
    "save_path = \"C:\\Document\\Serieux\\Travail\\Data_analysis_and_papers\\cEBMF_submission\\ICML_submission\\scaling_exp_res\\1000.pkl\"\n",
    "\n",
    "timings = []\n",
    "if os.path.exists(save_path):\n",
    "    with open(save_path, \"rb\") as f:\n",
    "        timings = pickle.load(f)"
   ]
  },
  {
   "cell_type": "code",
   "execution_count": 5,
   "metadata": {},
   "outputs": [
    {
     "data": {
      "text/plain": [
       "5.2115912437438965"
      ]
     },
     "execution_count": 5,
     "metadata": {},
     "output_type": "execute_result"
    }
   ],
   "source": [
    "np.mean(timings)\n"
   ]
  },
  {
   "cell_type": "code",
   "execution_count": null,
   "metadata": {},
   "outputs": [],
   "source": [
    " "
   ]
  },
  {
   "cell_type": "code",
   "execution_count": 4,
   "metadata": {},
   "outputs": [
    {
     "name": "stdout",
     "output_type": "stream",
     "text": [
      "(1000, 200)\n",
      "(1000, 2)\n",
      "Epoch 10/50, Loss: 1.1417\n",
      "Epoch 20/50, Loss: 1.0616\n",
      "Epoch 30/50, Loss: 0.9265\n",
      "Epoch 40/50, Loss: 0.6328\n",
      "Epoch 50/50, Loss: 0.5385\n",
      "Epoch 10/50, Loss: 1.0722\n",
      "Epoch 20/50, Loss: 0.9628\n",
      "Epoch 30/50, Loss: 0.8401\n",
      "Epoch 40/50, Loss: 0.6850\n",
      "Epoch 50/50, Loss: 0.5775\n",
      "Epoch 10/50, Loss: 1.0149\n",
      "Epoch 20/50, Loss: 0.6755\n",
      "Epoch 30/50, Loss: 0.3423\n",
      "Epoch 40/50, Loss: 0.0298\n",
      "Epoch 50/50, Loss: -0.0411\n",
      "Run 1 took 8.8437 seconds\n",
      "(1000, 200)\n",
      "(1000, 2)\n",
      "Epoch 10/50, Loss: 1.1691\n",
      "Epoch 20/50, Loss: 1.0658\n",
      "Epoch 30/50, Loss: 0.9893\n",
      "Epoch 40/50, Loss: 0.7731\n",
      "Epoch 50/50, Loss: 0.5771\n",
      "Epoch 10/50, Loss: 1.1072\n",
      "Epoch 20/50, Loss: 0.9796\n",
      "Epoch 30/50, Loss: 0.9269\n",
      "Epoch 40/50, Loss: 0.7954\n",
      "Epoch 50/50, Loss: 0.5604\n",
      "Epoch 10/50, Loss: 1.0149\n",
      "Epoch 20/50, Loss: 0.6203\n",
      "Epoch 30/50, Loss: 0.2592\n",
      "Epoch 40/50, Loss: 0.0661\n",
      "Epoch 50/50, Loss: -0.0247\n",
      "Run 2 took 5.5543 seconds\n",
      "(1000, 200)\n",
      "(1000, 2)\n",
      "Epoch 10/50, Loss: 1.1550\n",
      "Epoch 20/50, Loss: 1.0788\n",
      "Epoch 30/50, Loss: 0.9704\n",
      "Epoch 40/50, Loss: 0.7260\n",
      "Epoch 50/50, Loss: 0.5527\n",
      "Epoch 10/50, Loss: 1.1115\n",
      "Epoch 20/50, Loss: 0.9956\n",
      "Epoch 30/50, Loss: 0.9250\n",
      "Epoch 40/50, Loss: 0.8124\n",
      "Epoch 50/50, Loss: 0.6471\n",
      "Epoch 10/50, Loss: 1.0177\n",
      "Epoch 20/50, Loss: 0.5783\n",
      "Epoch 30/50, Loss: 0.1774\n",
      "Epoch 40/50, Loss: -0.0101\n",
      "Epoch 50/50, Loss: -0.0657\n",
      "Run 3 took 5.0661 seconds\n",
      "(1000, 200)\n",
      "(1000, 2)\n",
      "Epoch 10/50, Loss: 1.1401\n",
      "Epoch 20/50, Loss: 1.0436\n",
      "Epoch 30/50, Loss: 0.9260\n",
      "Epoch 40/50, Loss: 0.7394\n",
      "Epoch 50/50, Loss: 0.5037\n",
      "Epoch 10/50, Loss: 1.1404\n",
      "Epoch 20/50, Loss: 1.0418\n",
      "Epoch 30/50, Loss: 0.9633\n",
      "Epoch 40/50, Loss: 0.9252\n",
      "Epoch 50/50, Loss: 0.8784\n",
      "Epoch 10/50, Loss: 0.9857\n",
      "Epoch 20/50, Loss: 0.6979\n",
      "Epoch 30/50, Loss: 0.3532\n",
      "Epoch 40/50, Loss: 0.0838\n",
      "Epoch 50/50, Loss: -0.0345\n",
      "Run 4 took 4.7492 seconds\n",
      "(1000, 200)\n",
      "(1000, 2)\n",
      "Epoch 10/50, Loss: 1.1556\n",
      "Epoch 20/50, Loss: 1.0660\n",
      "Epoch 30/50, Loss: 1.0202\n",
      "Epoch 40/50, Loss: 0.8835\n",
      "Epoch 50/50, Loss: 0.6006\n",
      "Epoch 10/50, Loss: 1.0593\n",
      "Epoch 20/50, Loss: 0.9655\n",
      "Epoch 30/50, Loss: 0.9089\n",
      "Epoch 40/50, Loss: 0.7737\n",
      "Epoch 50/50, Loss: 0.6630\n",
      "Epoch 10/50, Loss: 1.0128\n",
      "Epoch 20/50, Loss: 0.6930\n",
      "Epoch 30/50, Loss: 0.3127\n",
      "Epoch 40/50, Loss: 0.0324\n",
      "Epoch 50/50, Loss: -0.0450\n",
      "Run 5 took 4.9698 seconds\n",
      "(1000, 200)\n",
      "(1000, 2)\n",
      "Epoch 10/50, Loss: 1.1755\n",
      "Epoch 20/50, Loss: 1.0790\n",
      "Epoch 30/50, Loss: 0.9868\n",
      "Epoch 40/50, Loss: 0.7904\n",
      "Epoch 50/50, Loss: 0.5410\n",
      "Epoch 10/50, Loss: 1.0832\n",
      "Epoch 20/50, Loss: 0.9719\n",
      "Epoch 30/50, Loss: 0.9271\n",
      "Epoch 40/50, Loss: 0.8502\n",
      "Epoch 50/50, Loss: 0.7205\n",
      "Epoch 10/50, Loss: 1.0617\n",
      "Epoch 20/50, Loss: 0.7669\n",
      "Epoch 30/50, Loss: 0.2952\n",
      "Epoch 40/50, Loss: 0.0513\n",
      "Epoch 50/50, Loss: -0.0177\n",
      "Run 6 took 4.6220 seconds\n",
      "(1000, 200)\n",
      "(1000, 2)\n",
      "Epoch 10/50, Loss: 1.1412\n",
      "Epoch 20/50, Loss: 1.0622\n",
      "Epoch 30/50, Loss: 0.9856\n",
      "Epoch 40/50, Loss: 0.8020\n",
      "Epoch 50/50, Loss: 0.6428\n",
      "Epoch 10/50, Loss: 1.0852\n",
      "Epoch 20/50, Loss: 0.9766\n",
      "Epoch 30/50, Loss: 0.8681\n",
      "Epoch 40/50, Loss: 0.7657\n",
      "Epoch 50/50, Loss: 0.6976\n",
      "Epoch 10/50, Loss: 0.9843\n",
      "Epoch 20/50, Loss: 0.6274\n",
      "Epoch 30/50, Loss: 0.1894\n",
      "Epoch 40/50, Loss: 0.0018\n",
      "Epoch 50/50, Loss: -0.0469\n",
      "Run 7 took 4.2139 seconds\n",
      "(1000, 200)\n",
      "(1000, 2)\n",
      "Epoch 10/50, Loss: 1.1191\n",
      "Epoch 20/50, Loss: 1.0420\n",
      "Epoch 30/50, Loss: 0.9131\n",
      "Epoch 40/50, Loss: 0.6712\n",
      "Epoch 50/50, Loss: 0.5012\n",
      "Epoch 10/50, Loss: 1.0845\n",
      "Epoch 20/50, Loss: 0.9674\n",
      "Epoch 30/50, Loss: 0.8452\n",
      "Epoch 40/50, Loss: 0.6442\n",
      "Epoch 50/50, Loss: 0.5115\n",
      "Epoch 10/50, Loss: 1.0462\n",
      "Epoch 20/50, Loss: 0.7333\n",
      "Epoch 30/50, Loss: 0.4108\n",
      "Epoch 40/50, Loss: 0.0865\n",
      "Epoch 50/50, Loss: -0.0348\n",
      "Run 8 took 4.5219 seconds\n",
      "(1000, 200)\n",
      "(1000, 2)\n",
      "Epoch 10/50, Loss: 1.1475\n",
      "Epoch 20/50, Loss: 1.0331\n",
      "Epoch 30/50, Loss: 0.7038\n",
      "Epoch 40/50, Loss: 0.5733\n",
      "Epoch 50/50, Loss: 0.4916\n",
      "Epoch 10/50, Loss: 1.0905\n",
      "Epoch 20/50, Loss: 0.9665\n",
      "Epoch 30/50, Loss: 0.8567\n",
      "Epoch 40/50, Loss: 0.6073\n",
      "Epoch 50/50, Loss: 0.5023\n",
      "Epoch 10/50, Loss: 1.0800\n",
      "Epoch 20/50, Loss: 0.9239\n",
      "Epoch 30/50, Loss: 0.5967\n",
      "Epoch 40/50, Loss: 0.2615\n",
      "Epoch 50/50, Loss: 0.0250\n",
      "Run 9 took 4.4516 seconds\n",
      "(1000, 200)\n",
      "(1000, 2)\n",
      "Epoch 10/50, Loss: 1.1448\n",
      "Epoch 20/50, Loss: 1.0561\n",
      "Epoch 30/50, Loss: 0.8225\n",
      "Epoch 40/50, Loss: 0.5803\n",
      "Epoch 50/50, Loss: 0.5039\n",
      "Epoch 10/50, Loss: 1.0921\n",
      "Epoch 20/50, Loss: 0.9918\n",
      "Epoch 30/50, Loss: 0.9477\n",
      "Epoch 40/50, Loss: 0.8677\n",
      "Epoch 50/50, Loss: 0.6391\n",
      "Epoch 10/50, Loss: 1.0211\n",
      "Epoch 20/50, Loss: 0.7814\n",
      "Epoch 30/50, Loss: 0.4521\n",
      "Epoch 40/50, Loss: 0.1404\n",
      "Epoch 50/50, Loss: -0.0228\n",
      "Run 10 took 5.1235 seconds\n"
     ]
    }
   ],
   "source": [
    "\n",
    "for i in range(10 - len(timings)):\n",
    "\n",
    "    Z, coords = scaling_exp(nrow=1000)\n",
    "    print(Z.shape)     # (1000, 200)\n",
    "    print(coords.shape)  # (1000, 2)\n",
    "    \n",
    "    start = time.time()\n",
    "    mycebmf= cEBMF(data= Z,\n",
    "               prior_L= \"emdn\",\n",
    "               X_l= coords,\n",
    "               K=3)\n",
    "    mycebmf.init_LF() \n",
    "    mycebmf.iter( )\n",
    "    elapsed = time.time() - start\n",
    "    timings.append(elapsed)\n",
    "    print(f\"Run {len(timings)} took {elapsed:.4f} seconds\")\n",
    "    with open(save_path, \"wb\") as f:\n",
    "        pickle.dump(timings, f)"
   ]
  },
  {
   "cell_type": "code",
   "execution_count": 6,
   "metadata": {},
   "outputs": [],
   "source": [
    "save_path = \"C:\\Document\\Serieux\\Travail\\Data_analysis_and_papers\\cEBMF_submission\\ICML_submission\\scaling_exp_res\\10000.pkl\"\n",
    "\n",
    "timings = []\n",
    "if os.path.exists(save_path):\n",
    "    with open(save_path, \"rb\") as f:\n",
    "        timings = pickle.load(f)"
   ]
  },
  {
   "cell_type": "code",
   "execution_count": 7,
   "metadata": {},
   "outputs": [
    {
     "data": {
      "text/plain": [
       "35.48338236808777"
      ]
     },
     "execution_count": 7,
     "metadata": {},
     "output_type": "execute_result"
    }
   ],
   "source": [
    "np.mean(timings)"
   ]
  },
  {
   "cell_type": "code",
   "execution_count": 7,
   "metadata": {},
   "outputs": [],
   "source": [
    "\n",
    "for i in range(10 - len(timings)):\n",
    "\n",
    "    Z, coords = scaling_exp(nrow=10000)\n",
    "    print(Z.shape)     # (1000, 200)\n",
    "    print(coords.shape)  # (1000, 2)\n",
    "    \n",
    "    start = time.time()\n",
    "    mycebmf= cEBMF(data= Z,\n",
    "               prior_L= \"emdn\",\n",
    "               X_l= coords,\n",
    "               K=3)\n",
    "    mycebmf.init_LF() \n",
    "    mycebmf.iter( )\n",
    "    elapsed = time.time() - start\n",
    "    timings.append(elapsed)\n",
    "    print(f\"Run {len(timings)} took {elapsed:.4f} seconds, it  {i}\")\n",
    "    with open(save_path, \"wb\") as f:\n",
    "        pickle.dump(timings, f)"
   ]
  },
  {
   "cell_type": "code",
   "execution_count": 8,
   "metadata": {},
   "outputs": [
    {
     "data": {
      "text/plain": [
       "[33.52007460594177,\n",
       " 31.23451542854309,\n",
       " 32.56593465805054,\n",
       " 35.13230657577515,\n",
       " 34.85833287239075,\n",
       " 31.717814207077026,\n",
       " 39.412111043930054,\n",
       " 39.26471495628357,\n",
       " 36.09192085266113,\n",
       " 41.03609848022461]"
      ]
     },
     "execution_count": 8,
     "metadata": {},
     "output_type": "execute_result"
    }
   ],
   "source": [
    "timings"
   ]
  },
  {
   "cell_type": "code",
   "execution_count": 8,
   "metadata": {},
   "outputs": [],
   "source": [
    "save_path = \"C:\\Document\\Serieux\\Travail\\Data_analysis_and_papers\\cEBMF_submission\\ICML_submission\\scaling_exp_res\\100000.pkl\"\n",
    "\n",
    "timings = []\n",
    "if os.path.exists(save_path):\n",
    "    with open(save_path, \"rb\") as f:\n",
    "        timings = pickle.load(f)"
   ]
  },
  {
   "cell_type": "code",
   "execution_count": 10,
   "metadata": {},
   "outputs": [
    {
     "data": {
      "text/plain": [
       "416.3482940673828"
      ]
     },
     "execution_count": 10,
     "metadata": {},
     "output_type": "execute_result"
    }
   ],
   "source": [
    "np.mean(timings)"
   ]
  },
  {
   "cell_type": "code",
   "execution_count": 11,
   "metadata": {},
   "outputs": [
    {
     "name": "stdout",
     "output_type": "stream",
     "text": [
      "(100000, 200)\n",
      "(100000, 2)\n",
      "Epoch 10/50, Loss: -0.0734\n",
      "Epoch 20/50, Loss: -0.0873\n",
      "Epoch 30/50, Loss: -0.0895\n",
      "Epoch 40/50, Loss: -0.0916\n",
      "Epoch 50/50, Loss: -0.0958\n",
      "Epoch 10/50, Loss: -0.0834\n",
      "Epoch 20/50, Loss: -0.0840\n",
      "Epoch 30/50, Loss: -0.0850\n",
      "Epoch 40/50, Loss: -0.0858\n",
      "Epoch 50/50, Loss: -0.0901\n",
      "Epoch 10/50, Loss: -0.0799\n",
      "Epoch 20/50, Loss: -0.0946\n",
      "Epoch 30/50, Loss: -0.0974\n",
      "Epoch 40/50, Loss: -0.0994\n",
      "Epoch 50/50, Loss: -0.1007\n",
      "Run 3 took 434.3386 seconds, it  0\n",
      "(100000, 200)\n",
      "(100000, 2)\n",
      "Epoch 10/50, Loss: -0.0602\n",
      "Epoch 20/50, Loss: -0.0789\n",
      "Epoch 30/50, Loss: -0.0863\n",
      "Epoch 40/50, Loss: -0.0875\n",
      "Epoch 50/50, Loss: -0.0938\n",
      "Epoch 10/50, Loss: -0.0840\n",
      "Epoch 20/50, Loss: -0.0876\n",
      "Epoch 30/50, Loss: -0.0867\n",
      "Epoch 40/50, Loss: -0.0909\n",
      "Epoch 50/50, Loss: -0.0918\n",
      "Epoch 10/50, Loss: -0.0816\n",
      "Epoch 20/50, Loss: -0.0922\n",
      "Epoch 30/50, Loss: -0.0969\n",
      "Epoch 40/50, Loss: -0.1005\n",
      "Epoch 50/50, Loss: -0.1008\n",
      "Run 4 took 408.2043 seconds, it  1\n",
      "(100000, 200)\n",
      "(100000, 2)\n",
      "Epoch 10/50, Loss: -0.0659\n",
      "Epoch 20/50, Loss: -0.0835\n",
      "Epoch 30/50, Loss: -0.0897\n",
      "Epoch 40/50, Loss: -0.0897\n",
      "Epoch 50/50, Loss: -0.0891\n",
      "Epoch 10/50, Loss: -0.0781\n",
      "Epoch 20/50, Loss: -0.0807\n",
      "Epoch 30/50, Loss: -0.0889\n",
      "Epoch 40/50, Loss: -0.0872\n",
      "Epoch 50/50, Loss: -0.0905\n",
      "Epoch 10/50, Loss: -0.0774\n",
      "Epoch 20/50, Loss: -0.0911\n",
      "Epoch 30/50, Loss: -0.0951\n",
      "Epoch 40/50, Loss: -0.0970\n",
      "Epoch 50/50, Loss: -0.0960\n",
      "Run 5 took 403.0187 seconds, it  2\n",
      "(100000, 200)\n",
      "(100000, 2)\n",
      "Epoch 10/50, Loss: -0.0596\n",
      "Epoch 20/50, Loss: -0.0787\n",
      "Epoch 30/50, Loss: -0.0850\n",
      "Epoch 40/50, Loss: -0.0854\n",
      "Epoch 50/50, Loss: -0.0907\n",
      "Epoch 10/50, Loss: -0.0750\n",
      "Epoch 20/50, Loss: -0.0858\n",
      "Epoch 30/50, Loss: -0.0881\n",
      "Epoch 40/50, Loss: -0.0890\n",
      "Epoch 50/50, Loss: -0.0889\n",
      "Epoch 10/50, Loss: -0.0809\n",
      "Epoch 20/50, Loss: -0.0938\n",
      "Epoch 30/50, Loss: -0.0973\n",
      "Epoch 40/50, Loss: -0.0974\n",
      "Epoch 50/50, Loss: -0.1013\n",
      "Run 6 took 408.4217 seconds, it  3\n",
      "(100000, 200)\n",
      "(100000, 2)\n",
      "Epoch 10/50, Loss: -0.0704\n",
      "Epoch 20/50, Loss: -0.0885\n",
      "Epoch 30/50, Loss: -0.0946\n",
      "Epoch 40/50, Loss: -0.0947\n",
      "Epoch 50/50, Loss: -0.0993\n"
     ]
    },
    {
     "name": "stderr",
     "output_type": "stream",
     "text": [
      "C:\\Document\\Serieux\\Travail\\python_work\\cEBNM_torch\\py\\numerical_routine\\posterior_computation.py:130: RuntimeWarning: invalid value encountered in sqrt\n",
      "  post_sd    = np.sqrt(post_mean2-post_mean**2)\n"
     ]
    },
    {
     "name": "stdout",
     "output_type": "stream",
     "text": [
      "Epoch 10/50, Loss: -0.0800\n",
      "Epoch 20/50, Loss: -0.0873\n",
      "Epoch 30/50, Loss: -0.0875\n",
      "Epoch 40/50, Loss: -0.0909\n",
      "Epoch 50/50, Loss: -0.0914\n"
     ]
    },
    {
     "name": "stderr",
     "output_type": "stream",
     "text": [
      "C:\\Document\\Serieux\\Travail\\python_work\\cEBNM_torch\\py\\numerical_routine\\posterior_computation.py:130: RuntimeWarning: invalid value encountered in sqrt\n",
      "  post_sd    = np.sqrt(post_mean2-post_mean**2)\n",
      "C:\\Document\\Serieux\\Travail\\python_work\\cEBNM_torch\\py\\numerical_routine\\posterior_computation.py:115: RuntimeWarning: overflow encountered in divide\n",
      "  t_ind_Var[i , ]= 1/((1/sebetahat[i]**2)+ (1/scale **2))\n"
     ]
    },
    {
     "name": "stdout",
     "output_type": "stream",
     "text": [
      "Epoch 10/50, Loss: -0.0847\n",
      "Epoch 20/50, Loss: -0.0959\n",
      "Epoch 30/50, Loss: -0.0990\n",
      "Epoch 40/50, Loss: -0.0979\n",
      "Epoch 50/50, Loss: -0.1013\n",
      "Run 7 took 421.1415 seconds, it  4\n",
      "(100000, 200)\n",
      "(100000, 2)\n",
      "Epoch 10/50, Loss: -0.0613\n",
      "Epoch 20/50, Loss: -0.0785\n",
      "Epoch 30/50, Loss: -0.0834\n",
      "Epoch 40/50, Loss: -0.0877\n",
      "Epoch 50/50, Loss: -0.0908\n",
      "Epoch 10/50, Loss: -0.0809\n",
      "Epoch 20/50, Loss: -0.0876\n",
      "Epoch 30/50, Loss: -0.0894\n",
      "Epoch 40/50, Loss: -0.0894\n",
      "Epoch 50/50, Loss: -0.0912\n",
      "Epoch 10/50, Loss: -0.0782\n",
      "Epoch 20/50, Loss: -0.0926\n",
      "Epoch 30/50, Loss: -0.0976\n",
      "Epoch 40/50, Loss: -0.0994\n",
      "Epoch 50/50, Loss: -0.1008\n",
      "Run 8 took 414.4031 seconds, it  5\n",
      "(100000, 200)\n",
      "(100000, 2)\n",
      "Epoch 10/50, Loss: -0.0675\n",
      "Epoch 20/50, Loss: -0.0827\n",
      "Epoch 30/50, Loss: -0.0873\n",
      "Epoch 40/50, Loss: -0.0904\n",
      "Epoch 50/50, Loss: -0.0898\n",
      "Epoch 10/50, Loss: -0.0804\n",
      "Epoch 20/50, Loss: -0.0847\n",
      "Epoch 30/50, Loss: -0.0860\n",
      "Epoch 40/50, Loss: -0.0888\n",
      "Epoch 50/50, Loss: -0.0927\n",
      "Epoch 10/50, Loss: -0.0821\n",
      "Epoch 20/50, Loss: -0.0951\n",
      "Epoch 30/50, Loss: -0.0980\n",
      "Epoch 40/50, Loss: -0.1008\n",
      "Epoch 50/50, Loss: -0.0996\n",
      "Run 9 took 430.0513 seconds, it  6\n",
      "(100000, 200)\n",
      "(100000, 2)\n",
      "Epoch 10/50, Loss: -0.0854\n",
      "Epoch 20/50, Loss: -0.0913\n",
      "Epoch 30/50, Loss: -0.0958\n",
      "Epoch 40/50, Loss: -0.0935\n",
      "Epoch 50/50, Loss: -0.0971\n"
     ]
    },
    {
     "name": "stderr",
     "output_type": "stream",
     "text": [
      "C:\\Document\\Serieux\\Travail\\python_work\\cEBNM_torch\\py\\numerical_routine\\posterior_computation.py:130: RuntimeWarning: invalid value encountered in sqrt\n",
      "  post_sd    = np.sqrt(post_mean2-post_mean**2)\n"
     ]
    },
    {
     "name": "stdout",
     "output_type": "stream",
     "text": [
      "Epoch 10/50, Loss: -0.0823\n",
      "Epoch 20/50, Loss: -0.0838\n",
      "Epoch 30/50, Loss: -0.0882\n",
      "Epoch 40/50, Loss: -0.0884\n",
      "Epoch 50/50, Loss: -0.0870\n"
     ]
    },
    {
     "name": "stderr",
     "output_type": "stream",
     "text": [
      "C:\\Document\\Serieux\\Travail\\python_work\\cEBNM_torch\\py\\numerical_routine\\posterior_computation.py:115: RuntimeWarning: overflow encountered in divide\n",
      "  t_ind_Var[i , ]= 1/((1/sebetahat[i]**2)+ (1/scale **2))\n"
     ]
    },
    {
     "name": "stdout",
     "output_type": "stream",
     "text": [
      "Epoch 10/50, Loss: -0.0808\n",
      "Epoch 20/50, Loss: -0.0927\n",
      "Epoch 30/50, Loss: -0.0974\n",
      "Epoch 40/50, Loss: -0.1005\n",
      "Epoch 50/50, Loss: -0.1015\n",
      "Run 10 took 417.9940 seconds, it  7\n"
     ]
    }
   ],
   "source": [
    " \n",
    "for i in range(10 - len(timings)):\n",
    "\n",
    "    Z, coords = scaling_exp(nrow=100000)\n",
    "    print(Z.shape)     # (1000, 200)\n",
    "    print(coords.shape)  # (1000, 2)\n",
    "    \n",
    "    start = time.time()\n",
    "    mycebmf= cEBMF(data= Z,\n",
    "               prior_L= \"emdn\",\n",
    "               X_l= coords,\n",
    "               K=3)\n",
    "    mycebmf.init_LF()\n",
    "    mycebmf.iter( )\n",
    "    elapsed = time.time() - start\n",
    "    timings.append(elapsed)\n",
    "    print(f\"Run {len(timings)} took {elapsed:.4f} seconds, it  {i}\")\n",
    "    with open(save_path, \"wb\") as f:\n",
    "        pickle.dump(timings, f)"
   ]
  },
  {
   "cell_type": "code",
   "execution_count": 11,
   "metadata": {},
   "outputs": [],
   "source": [
    "save_path = \"C:\\Document\\Serieux\\Travail\\Data_analysis_and_papers\\cEBMF_submission\\ICML_submission\\scaling_exp_res\\1000000.pkl\"\n",
    "\n",
    "timings = []\n",
    "if os.path.exists(save_path):\n",
    "    with open(save_path, \"rb\") as f:\n",
    "        timings = pickle.load(f)"
   ]
  },
  {
   "cell_type": "code",
   "execution_count": 13,
   "metadata": {},
   "outputs": [
    {
     "data": {
      "text/plain": [
       "[3521.713101863861, 3393.823957681656, 3295.2743582725525]"
      ]
     },
     "execution_count": 13,
     "metadata": {},
     "output_type": "execute_result"
    }
   ],
   "source": [
    "timings"
   ]
  },
  {
   "cell_type": "code",
   "execution_count": 14,
   "metadata": {},
   "outputs": [
    {
     "name": "stdout",
     "output_type": "stream",
     "text": [
      "(1000000, 200)\n",
      "(1000000, 2)\n",
      "Epoch 10/50, Loss: -0.0902\n",
      "Epoch 20/50, Loss: -0.0947\n",
      "Epoch 30/50, Loss: -0.0951\n",
      "Epoch 40/50, Loss: -0.0955\n",
      "Epoch 50/50, Loss: -0.0957\n",
      "Epoch 10/50, Loss: -0.1332\n",
      "Epoch 20/50, Loss: -0.1361\n",
      "Epoch 30/50, Loss: -0.1376\n",
      "Epoch 40/50, Loss: -0.1384\n",
      "Epoch 50/50, Loss: -0.1387\n",
      "Epoch 10/50, Loss: -0.1380\n",
      "Epoch 20/50, Loss: -0.1400\n",
      "Epoch 30/50, Loss: -0.1410\n",
      "Epoch 40/50, Loss: -0.1423\n",
      "Epoch 50/50, Loss: -0.1429\n",
      "Run 1 took 3521.7131 seconds\n",
      "(1000000, 200)\n",
      "(1000000, 2)\n",
      "Epoch 10/50, Loss: -0.0871\n",
      "Epoch 20/50, Loss: -0.0929\n",
      "Epoch 30/50, Loss: -0.0947\n",
      "Epoch 40/50, Loss: -0.0946\n",
      "Epoch 50/50, Loss: -0.0953\n",
      "Epoch 10/50, Loss: -0.1302\n",
      "Epoch 20/50, Loss: -0.1359\n",
      "Epoch 30/50, Loss: -0.1374\n",
      "Epoch 40/50, Loss: -0.1380\n",
      "Epoch 50/50, Loss: -0.1386\n",
      "Epoch 10/50, Loss: -0.1370\n",
      "Epoch 20/50, Loss: -0.1406\n",
      "Epoch 30/50, Loss: -0.1420\n",
      "Epoch 40/50, Loss: -0.1422\n",
      "Epoch 50/50, Loss: -0.1427\n",
      "Run 2 took 3393.8240 seconds\n",
      "(1000000, 200)\n",
      "(1000000, 2)\n",
      "Epoch 10/50, Loss: -0.0910\n",
      "Epoch 20/50, Loss: -0.0926\n",
      "Epoch 30/50, Loss: -0.0938\n",
      "Epoch 40/50, Loss: -0.0948\n",
      "Epoch 50/50, Loss: -0.0950\n",
      "Epoch 10/50, Loss: -0.1311\n",
      "Epoch 20/50, Loss: -0.1355\n",
      "Epoch 30/50, Loss: -0.1371\n",
      "Epoch 40/50, Loss: -0.1379\n",
      "Epoch 50/50, Loss: -0.1383\n",
      "Epoch 10/50, Loss: -0.1314\n",
      "Epoch 20/50, Loss: -0.1399\n",
      "Epoch 30/50, Loss: -0.1415\n",
      "Epoch 40/50, Loss: -0.1421\n",
      "Epoch 50/50, Loss: -0.1428\n",
      "Run 3 took 3295.2744 seconds\n",
      "(1000000, 200)\n",
      "(1000000, 2)\n",
      "Epoch 10/50, Loss: -0.0879\n",
      "Epoch 20/50, Loss: -0.0906\n",
      "Epoch 30/50, Loss: -0.0926\n",
      "Epoch 40/50, Loss: -0.0931\n",
      "Epoch 50/50, Loss: -0.0944\n"
     ]
    },
    {
     "ename": "MemoryError",
     "evalue": "Unable to allocate 763. MiB for an array with shape (1000000, 200) and data type float32",
     "output_type": "error",
     "traceback": [
      "\u001b[1;31m---------------------------------------------------------------------------\u001b[0m",
      "\u001b[1;31mMemoryError\u001b[0m                               Traceback (most recent call last)",
      "Cell \u001b[1;32mIn[14], line 13\u001b[0m\n\u001b[0;32m      8\u001b[0m mycebmf\u001b[38;5;241m=\u001b[39m cEBMF(data\u001b[38;5;241m=\u001b[39m Z,\n\u001b[0;32m      9\u001b[0m            prior_L\u001b[38;5;241m=\u001b[39m \u001b[38;5;124m\"\u001b[39m\u001b[38;5;124memdn\u001b[39m\u001b[38;5;124m\"\u001b[39m,\n\u001b[0;32m     10\u001b[0m            X_l\u001b[38;5;241m=\u001b[39m coords,\n\u001b[0;32m     11\u001b[0m            K\u001b[38;5;241m=\u001b[39m\u001b[38;5;241m3\u001b[39m)\n\u001b[0;32m     12\u001b[0m mycebmf\u001b[38;5;241m.\u001b[39minit_LF()\n\u001b[1;32m---> 13\u001b[0m \u001b[43mmycebmf\u001b[49m\u001b[38;5;241;43m.\u001b[39;49m\u001b[43miter\u001b[49m\u001b[43m(\u001b[49m\u001b[43m \u001b[49m\u001b[43m)\u001b[49m\n\u001b[0;32m     14\u001b[0m elapsed \u001b[38;5;241m=\u001b[39m time\u001b[38;5;241m.\u001b[39mtime() \u001b[38;5;241m-\u001b[39m start\n\u001b[0;32m     15\u001b[0m timings\u001b[38;5;241m.\u001b[39mappend(elapsed)\n",
      "File \u001b[1;32mC:\\Document\\Serieux\\Travail\\python_work\\cEBNM_torch\\py\\cEBMF.py:225\u001b[0m, in \u001b[0;36mcEBMF_object.iter\u001b[1;34m(self)\u001b[0m\n\u001b[0;32m    223\u001b[0m \u001b[38;5;250m\u001b[39m\u001b[38;5;124;03m\"\"\"Run one iteration of factor updates.\"\"\"\u001b[39;00m\n\u001b[0;32m    224\u001b[0m \u001b[38;5;28;01mfor\u001b[39;00m k \u001b[38;5;129;01min\u001b[39;00m \u001b[38;5;28mrange\u001b[39m(\u001b[38;5;28mself\u001b[39m\u001b[38;5;241m.\u001b[39mK):\n\u001b[1;32m--> 225\u001b[0m     \u001b[38;5;28;43mself\u001b[39;49m\u001b[38;5;241;43m.\u001b[39;49m\u001b[43mupdate_loading_factor_k\u001b[49m\u001b[43m(\u001b[49m\u001b[43mk\u001b[49m\u001b[43m)\u001b[49m\n\u001b[0;32m    226\u001b[0m \u001b[38;5;28mself\u001b[39m\u001b[38;5;241m.\u001b[39mupdate_tau()\n\u001b[0;32m    227\u001b[0m \u001b[38;5;28mself\u001b[39m\u001b[38;5;241m.\u001b[39mcal_obj()\n",
      "File \u001b[1;32mC:\\Document\\Serieux\\Travail\\python_work\\cEBNM_torch\\py\\cEBMF.py:211\u001b[0m, in \u001b[0;36mcEBMF_object.update_loading_factor_k\u001b[1;34m(self, k)\u001b[0m\n\u001b[0;32m    208\u001b[0m \u001b[38;5;28mself\u001b[39m\u001b[38;5;241m.\u001b[39mkl_l[k] \u001b[38;5;241m=\u001b[39m prior_result_L\u001b[38;5;241m.\u001b[39mloss  \u001b[38;5;66;03m# Loss is already negated in PriorResult\u001b[39;00m\n\u001b[0;32m    210\u001b[0m \u001b[38;5;66;03m# Compute estimates for F\u001b[39;00m\n\u001b[1;32m--> 211\u001b[0m fhat, s_f \u001b[38;5;241m=\u001b[39m \u001b[43mcompute_hat_f_and_s_f\u001b[49m\u001b[43m(\u001b[49m\u001b[38;5;28;43mself\u001b[39;49m\u001b[38;5;241;43m.\u001b[39;49m\u001b[43mRk\u001b[49m\u001b[43m,\u001b[49m\u001b[43m \u001b[49m\u001b[38;5;28;43mself\u001b[39;49m\u001b[38;5;241;43m.\u001b[39;49m\u001b[43mL\u001b[49m\u001b[43m[\u001b[49m\u001b[43m:\u001b[49m\u001b[43m,\u001b[49m\u001b[43m \u001b[49m\u001b[43mk\u001b[49m\u001b[43m]\u001b[49m\u001b[43m,\u001b[49m\u001b[43m \u001b[49m\u001b[38;5;28;43mself\u001b[39;49m\u001b[38;5;241;43m.\u001b[39;49m\u001b[43mL2\u001b[49m\u001b[43m[\u001b[49m\u001b[43m:\u001b[49m\u001b[43m,\u001b[49m\u001b[43m \u001b[49m\u001b[43mk\u001b[49m\u001b[43m]\u001b[49m\u001b[43m,\u001b[49m\u001b[43m \u001b[49m\u001b[38;5;28;43mself\u001b[39;49m\u001b[38;5;241;43m.\u001b[39;49m\u001b[43mtau\u001b[49m\u001b[43m,\u001b[49m\u001b[43m \u001b[49m\u001b[38;5;28;43mself\u001b[39;49m\u001b[38;5;241;43m.\u001b[39;49m\u001b[43mhas_nan\u001b[49m\u001b[43m)\u001b[49m\n\u001b[0;32m    213\u001b[0m \u001b[38;5;66;03m# Use user-defined or predefined function for F\u001b[39;00m\n\u001b[0;32m    214\u001b[0m prior_result_F \u001b[38;5;241m=\u001b[39m \u001b[38;5;28mself\u001b[39m\u001b[38;5;241m.\u001b[39mprior_F(\u001b[38;5;28mself\u001b[39m\u001b[38;5;241m.\u001b[39mX_f, fhat, s_f, \u001b[38;5;28mself\u001b[39m\u001b[38;5;241m.\u001b[39mmodel_list_F[k])\n",
      "File \u001b[1;32mC:\\Document\\Serieux\\Travail\\python_work\\cEBNM_torch\\py\\cEBMF.py:380\u001b[0m, in \u001b[0;36mcompute_hat_f_and_s_f\u001b[1;34m(Z, nu, omega, tau, has_nan)\u001b[0m\n\u001b[0;32m    376\u001b[0m mask \u001b[38;5;241m=\u001b[39m \u001b[38;5;241m~\u001b[39mnp\u001b[38;5;241m.\u001b[39misnan(Z)  \u001b[38;5;66;03m# Assuming the mask is related to Z having no NaNs\u001b[39;00m\n\u001b[0;32m    378\u001b[0m \u001b[38;5;28;01mif\u001b[39;00m \u001b[38;5;129;01mnot\u001b[39;00m has_nan:\n\u001b[0;32m    379\u001b[0m     \u001b[38;5;66;03m# Compute the numerator, broadcasting nu properly across columns (broadcast nu over axis=0)\u001b[39;00m\n\u001b[1;32m--> 380\u001b[0m     numerator_f_hat \u001b[38;5;241m=\u001b[39m np\u001b[38;5;241m.\u001b[39msum(\u001b[43mtau\u001b[49m\u001b[43m \u001b[49m\u001b[38;5;241;43m*\u001b[39;49m\u001b[43m \u001b[49m\u001b[43mZ\u001b[49m \u001b[38;5;241m*\u001b[39m mask \u001b[38;5;241m*\u001b[39m nu[:, np\u001b[38;5;241m.\u001b[39mnewaxis], axis\u001b[38;5;241m=\u001b[39m\u001b[38;5;241m0\u001b[39m)  \u001b[38;5;66;03m# Sum over i (axis=0)\u001b[39;00m\n\u001b[0;32m    381\u001b[0m     denominator_f_hat \u001b[38;5;241m=\u001b[39m np\u001b[38;5;241m.\u001b[39msum(tau \u001b[38;5;241m*\u001b[39m mask \u001b[38;5;241m*\u001b[39m omega[:, np\u001b[38;5;241m.\u001b[39mnewaxis], axis\u001b[38;5;241m=\u001b[39m\u001b[38;5;241m0\u001b[39m) \u001b[38;5;241m+\u001b[39m\u001b[38;5;241m1e-6\u001b[39m \u001b[38;5;66;03m# Sum over i (axis=0)\u001b[39;00m\n\u001b[0;32m    382\u001b[0m \u001b[38;5;28;01melse\u001b[39;00m:\n\u001b[0;32m    383\u001b[0m     \u001b[38;5;66;03m# Fill nan values in Z with 0\u001b[39;00m\n",
      "\u001b[1;31mMemoryError\u001b[0m: Unable to allocate 763. MiB for an array with shape (1000000, 200) and data type float32"
     ]
    }
   ],
   "source": [
    " \n",
    "for i in range(10 - len(timings)):\n",
    "\n",
    "    Z, coords = scaling_exp(nrow=1000000)\n",
    "    print(Z.shape)     # (1000, 200)\n",
    "    print(coords.shape)  # (1000, 2)\n",
    "    \n",
    "    start = time.time()\n",
    "    mycebmf= cEBMF(data= Z,\n",
    "               prior_L= \"emdn\",\n",
    "               X_l= coords,\n",
    "               K=3)\n",
    "    mycebmf.init_LF()\n",
    "    mycebmf.iter( )\n",
    "    elapsed = time.time() - start\n",
    "    timings.append(elapsed)\n",
    "    print(f\"Run {len(timings)} took {elapsed:.4f} seconds\")\n",
    "    with open(save_path, \"wb\") as f:\n",
    "        pickle.dump(timings, f)"
   ]
  },
  {
   "cell_type": "code",
   "execution_count": null,
   "metadata": {},
   "outputs": [],
   "source": []
  },
  {
   "cell_type": "code",
   "execution_count": null,
   "metadata": {},
   "outputs": [
    {
     "data": {
      "text/plain": [
       "<matplotlib.collections.PathCollection at 0x1278d339c90>"
      ]
     },
     "execution_count": 20,
     "metadata": {},
     "output_type": "execute_result"
    },
    {
     "data": {
      "image/png": "[encoded data removed]",
      "text/plain": [
       "<Figure size 640x480 with 1 Axes>"
      ]
     },
     "metadata": {},
     "output_type": "display_data"
    }
   ],
   "source": [
    "plt.scatter(coords[:,0], coords[:,1], alpha=0.5,\n",
    "            c= mycebmf.L [:,1] )\n",
    " "
   ]
  },
  {
   "cell_type": "code",
   "execution_count": null,
   "metadata": {},
   "outputs": [],
   "source": [
    "rmse = np.sqrt(np.mean((Z - mycebmf.L[:,0:1] @ mycebmf.F[:,0:1].T) ** 2))"
   ]
  },
  {
   "cell_type": "code",
   "execution_count": null,
   "metadata": {},
   "outputs": [
    {
     "data": {
      "text/plain": [
       "1.1654606712947513"
      ]
     },
     "execution_count": 24,
     "metadata": {},
     "output_type": "execute_result"
    }
   ],
   "source": [
    "rmse"
   ]
  }
 ],
 "metadata": {
  "kernelspec": {
   "display_name": "ml_env",
   "language": "python",
   "name": "python3"
  },
  "language_info": {
   "codemirror_mode": {
    "name": "ipython",
    "version": 3
   },
   "file_extension": ".py",
   "mimetype": "text/x-python",
   "name": "python",
   "nbconvert_exporter": "python",
   "pygments_lexer": "ipython3",
   "version": "3.10.8"
  }
 },
 "nbformat": 4,
 "nbformat_minor": 2
}
